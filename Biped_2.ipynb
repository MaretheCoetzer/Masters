{
 "cells": [
  {
   "cell_type": "code",
   "execution_count": 1,
   "id": "disciplinary-atlanta",
   "metadata": {},
   "outputs": [
    {
     "name": "stdout",
     "output_type": "stream",
     "text": [
      "Once deleted, variables cannot be recovered. Proceed (y/[n])? y\n",
      "Don't know how to reset  #, please run `%reset?` for details\n",
      "Don't know how to reset  clears, please run `%reset?` for details\n",
      "Don't know how to reset  variables, please run `%reset?` for details\n",
      "Flushing input history\n",
      "Don't know how to reset  workspace, please run `%reset?` for details\n"
     ]
    }
   ],
   "source": [
    "%reset # clears variables in workspace\n",
    "\n",
    "# import libraries\n",
    "# Pyomo stuff\n",
    "from pyomo.environ import*\n",
    "from pyomo.opt import SolverFactory\n",
    "from pyomo.opt import SolverStatus, TerminationCondition\n",
    "\n",
    "# other\n",
    "import sympy as sym\n",
    "import numpy as np\n",
    "\n",
    "from IPython.display import display #for pretty printing\n",
    "\n",
    "import matplotlib.pyplot as plt\n",
    "import matplotlib.animation as ani\n",
    "from IPython.display import HTML\n",
    "%matplotlib inline\n",
    "\n",
    "# create the model\n",
    "m = ConcreteModel()"
   ]
  },
  {
   "cell_type": "code",
   "execution_count": 2,
   "id": "inappropriate-installation",
   "metadata": {},
   "outputs": [
    {
     "name": "stdout",
     "output_type": "stream",
     "text": [
      "Done\n"
     ]
    }
   ],
   "source": [
    "N = 30 # how many points are in the trajectory\n",
    "hm = 0.5/N #scaling factor\n",
    "m.N = RangeSet(N) # For defining ordered/numerical sets. Works like 'range' in python.\n",
    "\n",
    "m.g = Param(initialize = 9.81)\n",
    "m.X0 = Param(initialize = 0.0) # position of fixed base\n",
    "m.Z0 = Param(initialize = 1.0)\n",
    "# m.h = Param(initialize = 0.02) # time step\n",
    "\n",
    "# mass of links\n",
    "m.m1 = Param(initialize = 0.35)\n",
    "m.m2 = Param(initialize = 0.15)\n",
    "m.m3 = Param(initialize = 0.35)\n",
    "m.m4 = Param(initialize = 0.15)\n",
    "\n",
    "mbody = m.m1.value+m.m2.value+m.m3.value+m.m4.value\n",
    "mBW = mbody*m.g.value\n",
    "\n",
    "# length of links\n",
    "m.l1 = Param(initialize = 0.12) \n",
    "m.l2 = Param(initialize = 0.24) \n",
    "m.l3 = Param(initialize = 0.12) \n",
    "m.l4 = Param(initialize = 0.24) \n",
    "# IMPORTANT make sure your values are declared as floats: many a long debugging session has eventually led me to find something\n",
    "# unexpectedly has a value of zero because of integer devision gone wrong. Goddamn implicit typing fuuuuuuuuuuuuuuuuuuuuuuuuuuu\n",
    "\n",
    "#Inertia\n",
    "m.In1= Param(initialize = m.m1.value*m.l1.value**2/12) \n",
    "m.In2= Param(initialize = m.m2.value*m.l2.value**2/12)\n",
    "m.In3= Param(initialize = m.m3.value*m.l3.value**2/12)\n",
    "m.In4= Param(initialize = m.m4.value*m.l4.value**2/12)\n",
    "\n",
    "#Forces\n",
    "m.t_max=6.864655 #Nm, corresponding to a 8V input\n",
    "m.w_max=8.055366 #rad/s, corresponding to a 8V inpuy\n",
    "\n",
    "print(\"Done\")"
   ]
  },
  {
   "cell_type": "code",
   "execution_count": 3,
   "id": "leading-asset",
   "metadata": {},
   "outputs": [
    {
     "name": "stdout",
     "output_type": "stream",
     "text": [
      "Done\n"
     ]
    }
   ],
   "source": [
    "# create symbolic variables\n",
    "\n",
    "# system parameters\n",
    "g = sym.symbols('g')\n",
    "X0,Z0 = sym.symbols(['X0','Z0']) # fixed position of first link\n",
    "m1,m2,m3,m4 = sym.symbols(['m1','m2','m3','m4']) # mass of links\n",
    "l1,l2,l3,l4 = sym.symbols(['l1','l2','l3','l4']) # length of links\n",
    "In1,In2,In3,In4 = sym.symbols(['In1','In2','In3','In4']) # moment of intertia of links\n",
    "\n",
    "# generalized coordinates\n",
    "x,z,th1,th2,th3,th4 = sym.symbols(['x','z','theta1','theta2','theta3','theta4']) #position\n",
    "dx,dz,dth1,dth2,dth3,dth4 = sym.symbols(['\\dot{x}','\\dot{z}','\\dot{\\\\theta}_{1}','\\dot{\\\\theta}_{2}','\\dot{\\\\theta}_{3}','\\dot{\\\\theta}_{4}']) #velocity\n",
    "ddx,ddz,ddth1,ddth2,ddth3,ddth4 = sym.symbols(['\\ddot{x}','\\ddot{z}','\\ddot{\\\\theta}_{1}','\\ddot{\\\\theta}_{2}','\\ddot{\\\\theta}_{3}','\\ddot{\\\\theta}_{4}']) #acceleration\n",
    "\n",
    "q = sym.Matrix([[x],[z],[th1],[th2],[th3],[th4]]) #group into matrices\n",
    "dq = sym.Matrix([[dx],[dz],[dth1],[dth2],[dth3],[dth4]])\n",
    "ddq = sym.Matrix([[ddx],[ddz],[ddth1],[ddth2],[ddth3],[ddth4]])\n",
    "\n",
    "# forces\n",
    "tau1,tau2,tau3,tau4 = sym.symbols(['\\\\tau_1','\\\\tau_2','\\\\tau_3','\\\\tau_4']) \n",
    "\n",
    "print('Done')"
   ]
  },
  {
   "cell_type": "code",
   "execution_count": 4,
   "id": "modern-ballot",
   "metadata": {},
   "outputs": [
    {
     "name": "stdout",
     "output_type": "stream",
     "text": [
      "Done\n"
     ]
    }
   ],
   "source": [
    "# STEP 1: position vector (COM of each link) \n",
    "#using relative angles \n",
    "\n",
    "x1 = X0 + 0.5*l1*sym.sin(th1)\n",
    "z1 = Z0 - 0.5*l1*sym.cos(th1)\n",
    "\n",
    "x2 = X0 + l1*sym.sin(th1) + 0.5*l2*sym.sin(th1+th2)\n",
    "z2 = Z0 - l1*sym.cos(th1) - 0.5*l2*sym.cos(th1+th2)\n",
    "\n",
    "x3 = X0 + 0.5*l3*sym.sin(th3)\n",
    "z3 = Z0 - 0.5*l3*sym.cos(th3)\n",
    "\n",
    "x4 = X0 + l3*sym.sin(th3) + 0.5*l4*sym.sin(th3+th4)\n",
    "z4 = Z0 - l3*sym.cos(th3) - 0.5*l4*sym.cos(th3+th4)\n",
    "\n",
    "print('Done')"
   ]
  },
  {
   "cell_type": "code",
   "execution_count": 5,
   "id": "marine-cameroon",
   "metadata": {},
   "outputs": [
    {
     "name": "stdout",
     "output_type": "stream",
     "text": [
      "Done\n"
     ]
    }
   ],
   "source": [
    "# STEP 2: generate expressions for the system space velocities\n",
    "p1 = sym.Matrix([x1,z1])\n",
    "v1 = p1.jacobian(q)*dq\n",
    "[dx1,dz1] = v1\n",
    "\n",
    "p2 = sym.Matrix([x2,z2])\n",
    "v2 = p2.jacobian(q)*dq\n",
    "[dx2,dz2] = v2 \n",
    "\n",
    "p3 = sym.Matrix([x3,z3])\n",
    "v3 = p3.jacobian(q)*dq\n",
    "[dx3,dz3] = v3 \n",
    "\n",
    "p4 = sym.Matrix([x4,z4])\n",
    "v4 = p4.jacobian(q)*dq\n",
    "[dx4,dz4] = v3 \n",
    "\n",
    "print('Done')"
   ]
  },
  {
   "cell_type": "code",
   "execution_count": 6,
   "id": "endangered-leeds",
   "metadata": {},
   "outputs": [
    {
     "name": "stdout",
     "output_type": "stream",
     "text": [
      "Done\n"
     ]
    }
   ],
   "source": [
    "# STEP 3: generate expressions for the kinetic and potential energy\n",
    "\n",
    "#Stacy Shield's method\n",
    "# T = sym.Matrix([0.5*m1*(dx1**2+dy1**2) + 0.5*m2*(dx2**2+dy2**2) + 0.5*In1*dth1a**2 + 0.5*In2*dth2a**2])\n",
    "# V = sym.Matrix([m1*g*y1 + m2*g*y2])\n",
    "\n",
    "#Callen Fisher's method, better for bigger problems.\n",
    "M1 = sym.Matrix([[m1,m1]])\n",
    "M2 = sym.Matrix([[m2,m2]])\n",
    "M3 = sym.Matrix([[m3,m3]])\n",
    "M4 = sym.Matrix([[m4,m4]])\n",
    "\n",
    "I1=sym.Matrix([[In1]])\n",
    "I2=sym.Matrix([[In2]])\n",
    "I3=sym.Matrix([[In3]])\n",
    "I4=sym.Matrix([[In4]])\n",
    "\n",
    "W1=sym.Matrix([[dth1]])\n",
    "W2=sym.Matrix([[dth1+dth2]])\n",
    "W3=sym.Matrix([[dth3]])\n",
    "W4=sym.Matrix([[dth3+dth4]])\n",
    "\n",
    "# linear kinetic energy:\n",
    "Tl = 0.5*M1*sym.matrix_multiply_elementwise(v1,v1) + 0.5*M2*sym.matrix_multiply_elementwise(v2,v2) + 0.5*M3*sym.matrix_multiply_elementwise(v3,v3) + 0.5*M4*sym.matrix_multiply_elementwise(v4,v4)\n",
    "# angular kinetic energy:\n",
    "Tw =  0.5*I1*sym.matrix_multiply_elementwise(W1,W1) + 0.5*I2*sym.matrix_multiply_elementwise(W2,W2) + 0.5*I3*sym.matrix_multiply_elementwise(W3,W3) + 0.5*I4*sym.matrix_multiply_elementwise(W4,W4)\n",
    "#this should be a 3*3 matrix of MOI and a vector of angular vel... w'*MOI*w\n",
    "\n",
    "T = sym.Matrix([Tl[0]])+sym.Matrix([Tw[0]])\n",
    "# potential energy\n",
    "V = m1*g*p1[1] + m2*g*p2[1] + m3*g*p3[1] + m4*g*p4[1]\n",
    "print('Done')"
   ]
  },
  {
   "cell_type": "code",
   "execution_count": 7,
   "id": "pointed-hotel",
   "metadata": {},
   "outputs": [
    {
     "data": {
      "text/latex": [
       "$\\displaystyle \\left[\\begin{matrix}0\\\\0\\\\\\tau_{1}\\\\\\tau_{2}\\\\\\tau_{3}\\\\\\tau_{4}\\end{matrix}\\right]$"
      ],
      "text/plain": [
       "Matrix([\n",
       "[     0],\n",
       "[     0],\n",
       "[\\tau_1],\n",
       "[\\tau_2],\n",
       "[\\tau_3],\n",
       "[\\tau_4]])"
      ]
     },
     "metadata": {},
     "output_type": "display_data"
    },
    {
     "name": "stdout",
     "output_type": "stream",
     "text": [
      "Done\n"
     ]
    }
   ],
   "source": [
    "#Use the manipulator equation to calculate the EoM\n",
    "#EOM=Mddq+Cdq+G-Q-J.'*GRF ---> Callen's method\n",
    "\n",
    "M=T.jacobian(dq)\n",
    "M=M.transpose()\n",
    "M=M.jacobian(dq)              \n",
    "\n",
    "C  = sym.zeros(len(q),len(q))                                                         \n",
    "for i in range(len(q)):                                             \n",
    "    for j in range(len(q)):\n",
    "        for n in range(len(q)):\n",
    "            C[i,j] = C[i,j]+ 0.5*(sym.diff(M[i,j],q[n]) + sym.diff(M[i,n],q[j]) - sym.diff(M[j,n],q[i]))*dq[n];\n",
    "\n",
    "G  = sym.zeros(len(q),1)                                         \n",
    "for i in range(len(q)):\n",
    "    G[i] = sym.diff(V,q[i]);       \n",
    "\n",
    "Q = sym.zeros(len(q),1)\n",
    "Q[0]=0                 #X\n",
    "Q[1]=0                 #Z\n",
    "Q[2]=tau1              #th1\n",
    "Q[3]=tau2              #th2\n",
    "Q[4]=tau3              #th3\n",
    "Q[5]=tau4              #th4\n",
    "display(Q)\n",
    "\n",
    "EOM=M*ddq+C*dq+G-Q\n",
    "\n",
    "EOMs = sym.zeros(len(q),1)\n",
    "for j in range(len(q)):\n",
    "    EOMs[j] = EOM[j].simplify()  #--> Helps to make simulation faster for bigger problems\n",
    "\n",
    "#display(EOMs)\n",
    "print('Done')"
   ]
  },
  {
   "cell_type": "code",
   "execution_count": 8,
   "id": "retired-aerospace",
   "metadata": {},
   "outputs": [
    {
     "name": "stdout",
     "output_type": "stream",
     "text": [
      "Done\n"
     ]
    }
   ],
   "source": [
    "# Lambdify\n",
    "\n",
    "func_map = {'sin':sin, 'cos':cos} \n",
    "\n",
    "sym_list = [X0,Z0,g,m1,m2,m3,m4,l1,l2,l3,l4,\n",
    "            In1,In2,In3,In4,th1,th2,th3,th4,\n",
    "            dth1,dth2,dth3,dth4,ddth1,ddth2,\n",
    "            ddth3,ddth4,tau1,tau2,tau3,tau4]\n",
    "            \n",
    "lambEOM_th1 = sym.lambdify(sym_list,EOMs[0],modules = [func_map])\n",
    "lambEOM_th2 = sym.lambdify(sym_list,EOMs[1],modules = [func_map])\n",
    "lambEOM_th3 = sym.lambdify(sym_list,EOMs[2],modules = [func_map])\n",
    "lambEOM_th4 = sym.lambdify(sym_list,EOMs[3],modules = [func_map])\n",
    "print('Done')"
   ]
  },
  {
   "cell_type": "code",
   "execution_count": 9,
   "id": "opposite-disposition",
   "metadata": {},
   "outputs": [
    {
     "name": "stdout",
     "output_type": "stream",
     "text": [
      "Done\n"
     ]
    }
   ],
   "source": [
    "# Variables\n",
    "cN = 3\n",
    "m.cN =RangeSet(cN)\n",
    "\n",
    "links = [('leg',1),('leg',2),('leg',3),('leg',4)]\n",
    "m.L = Set(dimen=2, initialize=links)\n",
    "\n",
    "DOFs = ['theta_1','theta_2','theta_3','theta_4'] # generalized coordinates\n",
    "m.DOF = Set(initialize = DOFs) \n",
    "\n",
    "# system coordinates\n",
    "#collocation points\n",
    "m.q = Var(m.N, m.cN, m.DOF) # position\n",
    "m.dq = Var(m.N, m.cN, m.DOF) # velocity\n",
    "m.ddq = Var(m.N, m.cN, m.DOF) # acceleration\n",
    "\n",
    "#nodes\n",
    "m.q0 = Var(m.N, m.DOF) # position\n",
    "m.dq0 = Var(m.N, m.DOF) # velocity\n",
    "\n",
    "#time\n",
    "m.tt = Var(m.N, m.cN)\n",
    "m.tt0 = Var(m.N)\n",
    "\n",
    "m.h = Var(m.N, bounds =(0.1,2.0))\n",
    "\n",
    "a = [[0.19681547722366, 0.39442431473909, 0.37640306270047],\n",
    "     [-0.06553542585020, 0.29207341166523, 0.51248582618842],\n",
    "     [0.02377097434822, -0.04154875212600, 0.11111111111111]]\n",
    "print('Done')"
   ]
  },
  {
   "cell_type": "code",
   "execution_count": 10,
   "id": "arabic-external",
   "metadata": {},
   "outputs": [
    {
     "name": "stdout",
     "output_type": "stream",
     "text": [
      "Done\n"
     ]
    }
   ],
   "source": [
    "def ContConstraint_p (m, n, dof):\n",
    "    if n > 1:\n",
    "        return m.q0[n,dof] == m.q[n-1,3,dof]\n",
    "    else:\n",
    "        return Constraint.Skip\n",
    "m.ContConstraint_p = Constraint(m.N, m.DOF, rule = ContConstraint_p)\n",
    "\n",
    "def ContConstraint_v (m, n, dof):\n",
    "    if n > 1:\n",
    "        return m.dq0[n,dof] == m.dq[n-1,3,dof]\n",
    "    else:\n",
    "        return Constraint.Skip\n",
    "m.ContConstraint_v = Constraint(m.N, m.DOF, rule = ContConstraint_v)\n",
    "\n",
    "def ContConstraint_tt (m, n):\n",
    "    if n > 1:\n",
    "        return m.tt0[n] == m.tt[n-1,3]\n",
    "    else:\n",
    "        return Constraint.Skip\n",
    "m.ContConstraint_tt = Constraint(m.N, rule = ContConstraint_tt)\n",
    "\n",
    "print('Done')"
   ]
  },
  {
   "cell_type": "code",
   "execution_count": 11,
   "id": "thousand-indie",
   "metadata": {},
   "outputs": [
    {
     "name": "stdout",
     "output_type": "stream",
     "text": [
      "Done\n"
     ]
    }
   ],
   "source": [
    "def integrate_p(m, n, c, dof): # for positions\n",
    "    if n > 0:\n",
    "        return m.q[n,c,dof] == m.q0[n, dof] + hm*m.h[n]*(a[0][c-1]*m.dq[n,1,dof] \\\n",
    "                                                         +a[1][c-1]*m.dq[n,2,dof] \\\n",
    "                                                         +a[2][c-1]*m.dq[n,3,dof])\n",
    "    else:\n",
    "        return Constraint.Skip #use this to leave out members of a set that the constraint doesn't apply to\n",
    "m.integrate_p = Constraint(m.N, m.cN, m.DOF, rule = integrate_p)\n",
    "\n",
    "def integrate_v(m,n,c,dof): # for velocities\n",
    "    if n > 0:\n",
    "        return m.dq[n,c,dof] == m.dq0[n, dof] + hm*m.h[n]*(a[0][c-1]*m.ddq[n,1,dof] \\\n",
    "                                                           +a[1][c-1]*m.ddq[n,2,dof] \\\n",
    "                                                           +a[2][c-1]*m.ddq[n,3,dof])\n",
    "    else:\n",
    "        return Constraint.Skip \n",
    "m.integrate_v = Constraint(m.N, m.cN, m.DOF, rule = integrate_v)\n",
    "\n",
    "def integrate_tt(m,n,c): # for time \n",
    "    if n > 0:\n",
    "        return m.tt[n,c] == m.tt0[n] + hm*m.h[n]*(a[0][c-1]+a[1][c-1]+a[2][c-1])\n",
    "    else:\n",
    "        return Constraint.Skip \n",
    "m.integrate_tt = Constraint(m.N, m.cN, rule = integrate_tt)\n",
    "\n",
    "print('Done')"
   ]
  },
  {
   "cell_type": "code",
   "execution_count": 12,
   "id": "solved-miracle",
   "metadata": {},
   "outputs": [
    {
     "name": "stdout",
     "output_type": "stream",
     "text": [
      "Done\n"
     ]
    }
   ],
   "source": [
    "signs = ['ps', 'ng']\n",
    "m.sgn = Set(initialize = ['ps', 'ng'])\n",
    "WDOFs = ['THETA1', 'THETA2','THETA3','THETA4']\n",
    "m.WDOF = Set(initialize=WDOFs) #change the coordinates\n",
    "#m.GRF = Var(m.N, m.cN, m.WDOF, m.sgn, bounds = (0.0,None)) # should bound it to 10*m_robot*g\n",
    "m.eps = Param(initialize=1000.0, mutable=True)\n",
    "m.mu = Param(initialize =1.00)\n",
    "print('Done')"
   ]
  },
  {
   "cell_type": "code",
   "execution_count": 13,
   "id": "indie-sleep",
   "metadata": {},
   "outputs": [
    {
     "name": "stdout",
     "output_type": "stream",
     "text": [
      "Done\n"
     ]
    }
   ],
   "source": [
    "# # SLACK VARIABLES\n",
    "# m.a_contact_1  = Var(m.N, m.cN, bounds = (0.0,None)) \n",
    "# m.b_contact_1  = Var(m.N, m.cN, bounds = (0.0,None)) \n",
    "# m.a_friction_1 = Var(m.N, m.cN, bounds = (0.0,None)) \n",
    "# m.b_friction_1 = Var(m.N, m.cN, bounds = (0.0,None)) \n",
    "# m.a_slip_p_1   = Var(m.N, m.cN, bounds = (0.0,None)) \n",
    "# m.b_slip_p_1   = Var(m.N, m.cN, bounds = (0.0,None)) \n",
    "# m.a_slip_n_1   = Var(m.N, m.cN, bounds = (0.0,None)) \n",
    "# m.b_slip_n_1   = Var(m.N, m.cN, bounds = (0.0,None)) \n",
    "# m.gamma_1      = Var(m.N, m.cN, bounds = (0.0,None)) \n",
    "print('Done')"
   ]
  },
  {
   "cell_type": "code",
   "execution_count": 14,
   "id": "recreational-detective",
   "metadata": {},
   "outputs": [
    {
     "name": "stdout",
     "output_type": "stream",
     "text": [
      "Done\n"
     ]
    }
   ],
   "source": [
    "#skipped 13,14,15,16,17\n",
    "\n",
    "m.tau_a = Var(m.N, bounds = (-m.t_max,m.t_max)) # actuator torque at hip_1\n",
    "m.tau_b = Var(m.N, bounds = (-m.t_max,m.t_max)) # actuator torque at knee_2\n",
    "m.tau_c = Var(m.N, bounds = (-m.t_max,m.t_max)) # actuator torque at hip_3\n",
    "m.tau_d = Var(m.N, bounds = (-m.t_max,m.t_max)) # actuator torque at knee_4\n",
    "\n",
    "def def_hip_motor_model_p(m,n):\n",
    "    return  m.tau_a[n] <= m.t_max-m.t_max/m.w_max*(m.dq0[n,'theta_1']-m.dq0[n,'theta_2'])\n",
    "m.def_hip_motor_model_p = Constraint(m.N, rule = def_hip_motor_model_p)\n",
    "def def_hip_motor_model_n(m,n):\n",
    "    return  m.tau_a[n] >= -m.t_max-m.t_max/m.w_max*(m.dq0[n,'theta_1']-m.dq0[n,'theta_2'])\n",
    "m.def_hip_motor_model_n = Constraint(m.N, rule = def_hip_motor_model_n)\n",
    "\n",
    "print('Done')"
   ]
  },
  {
   "cell_type": "code",
   "execution_count": null,
   "id": "fewer-moral",
   "metadata": {},
   "outputs": [],
   "source": []
  }
 ],
 "metadata": {
  "kernelspec": {
   "display_name": "Python 3",
   "language": "python",
   "name": "python3"
  },
  "language_info": {
   "codemirror_mode": {
    "name": "ipython",
    "version": 3
   },
   "file_extension": ".py",
   "mimetype": "text/x-python",
   "name": "python",
   "nbconvert_exporter": "python",
   "pygments_lexer": "ipython3",
   "version": "3.8.5"
  }
 },
 "nbformat": 4,
 "nbformat_minor": 5
}
